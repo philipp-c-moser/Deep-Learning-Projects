{
 "cells": [
  {
   "cell_type": "code",
   "execution_count": 55,
   "metadata": {
    "scrolled": true
   },
   "outputs": [
    {
     "output_type": "execute_result",
     "data": {
      "text/plain": "   Unix Timestamp              Date  Symbol     Open     High      Low  \\\n0    1.600326e+09  2020-09-17 07-AM  BTCEUR  9246.59  9251.27  9242.75   \n1    1.600322e+09  2020-09-17 06-AM  BTCEUR  9302.08  9318.55  9242.95   \n2    1.600319e+09  2020-09-17 05-AM  BTCEUR  9281.57  9322.23  9274.79   \n3    1.600315e+09  2020-09-17 04-AM  BTCEUR  9273.26  9289.01  9259.86   \n4    1.600312e+09  2020-09-17 03-AM  BTCEUR  9307.35  9309.64  9273.26   \n\n     Close  Volume BTC  Volume EUR  \n0  9251.27     0.00670       61.95  \n1  9246.59     0.07678      711.82  \n2  9302.08     0.09128      848.16  \n3  9281.57     0.07866      729.78  \n4  9273.26     0.09925      922.51  ",
      "text/html": "<div>\n<style scoped>\n    .dataframe tbody tr th:only-of-type {\n        vertical-align: middle;\n    }\n\n    .dataframe tbody tr th {\n        vertical-align: top;\n    }\n\n    .dataframe thead th {\n        text-align: right;\n    }\n</style>\n<table border=\"1\" class=\"dataframe\">\n  <thead>\n    <tr style=\"text-align: right;\">\n      <th></th>\n      <th>Unix Timestamp</th>\n      <th>Date</th>\n      <th>Symbol</th>\n      <th>Open</th>\n      <th>High</th>\n      <th>Low</th>\n      <th>Close</th>\n      <th>Volume BTC</th>\n      <th>Volume EUR</th>\n    </tr>\n  </thead>\n  <tbody>\n    <tr>\n      <th>0</th>\n      <td>1.600326e+09</td>\n      <td>2020-09-17 07-AM</td>\n      <td>BTCEUR</td>\n      <td>9246.59</td>\n      <td>9251.27</td>\n      <td>9242.75</td>\n      <td>9251.27</td>\n      <td>0.00670</td>\n      <td>61.95</td>\n    </tr>\n    <tr>\n      <th>1</th>\n      <td>1.600322e+09</td>\n      <td>2020-09-17 06-AM</td>\n      <td>BTCEUR</td>\n      <td>9302.08</td>\n      <td>9318.55</td>\n      <td>9242.95</td>\n      <td>9246.59</td>\n      <td>0.07678</td>\n      <td>711.82</td>\n    </tr>\n    <tr>\n      <th>2</th>\n      <td>1.600319e+09</td>\n      <td>2020-09-17 05-AM</td>\n      <td>BTCEUR</td>\n      <td>9281.57</td>\n      <td>9322.23</td>\n      <td>9274.79</td>\n      <td>9302.08</td>\n      <td>0.09128</td>\n      <td>848.16</td>\n    </tr>\n    <tr>\n      <th>3</th>\n      <td>1.600315e+09</td>\n      <td>2020-09-17 04-AM</td>\n      <td>BTCEUR</td>\n      <td>9273.26</td>\n      <td>9289.01</td>\n      <td>9259.86</td>\n      <td>9281.57</td>\n      <td>0.07866</td>\n      <td>729.78</td>\n    </tr>\n    <tr>\n      <th>4</th>\n      <td>1.600312e+09</td>\n      <td>2020-09-17 03-AM</td>\n      <td>BTCEUR</td>\n      <td>9307.35</td>\n      <td>9309.64</td>\n      <td>9273.26</td>\n      <td>9273.26</td>\n      <td>0.09925</td>\n      <td>922.51</td>\n    </tr>\n  </tbody>\n</table>\n</div>"
     },
     "metadata": {},
     "execution_count": 55
    }
   ],
   "source": [
    "import pandas as pd\n",
    "\n",
    "\n",
    "dataframe = pd.read_csv(\"Exmo_BTCEUR_1h.csv\", header=1)\n",
    "\n",
    "dataframe.head()"
   ]
  },
  {
   "cell_type": "code",
   "execution_count": 56,
   "metadata": {},
   "outputs": [
    {
     "output_type": "execute_result",
     "data": {
      "text/plain": "   Unix Timestamp              Date  Symbol     Open     High      Low  \\\n0    1.600326e+09  2020-09-17 07-AM  BTCEUR  9246.59  9251.27  9242.75   \n1    1.600322e+09  2020-09-17 06-AM  BTCEUR  9302.08  9318.55  9242.95   \n2    1.600319e+09  2020-09-17 05-AM  BTCEUR  9281.57  9322.23  9274.79   \n3    1.600315e+09  2020-09-17 04-AM  BTCEUR  9273.26  9289.01  9259.86   \n4    1.600312e+09  2020-09-17 03-AM  BTCEUR  9307.35  9309.64  9273.26   \n\n     Close  Volume BTC  Volume EUR  Open_hour_before  Open_changes  \n0  9251.27     0.00670       61.95           9302.08     -0.005965  \n1  9246.59     0.07678      711.82           9281.57      0.002210  \n2  9302.08     0.09128      848.16           9273.26      0.000896  \n3  9281.57     0.07866      729.78           9307.35     -0.003663  \n4  9273.26     0.09925      922.51           9338.39     -0.003324  ",
      "text/html": "<div>\n<style scoped>\n    .dataframe tbody tr th:only-of-type {\n        vertical-align: middle;\n    }\n\n    .dataframe tbody tr th {\n        vertical-align: top;\n    }\n\n    .dataframe thead th {\n        text-align: right;\n    }\n</style>\n<table border=\"1\" class=\"dataframe\">\n  <thead>\n    <tr style=\"text-align: right;\">\n      <th></th>\n      <th>Unix Timestamp</th>\n      <th>Date</th>\n      <th>Symbol</th>\n      <th>Open</th>\n      <th>High</th>\n      <th>Low</th>\n      <th>Close</th>\n      <th>Volume BTC</th>\n      <th>Volume EUR</th>\n      <th>Open_hour_before</th>\n      <th>Open_changes</th>\n    </tr>\n  </thead>\n  <tbody>\n    <tr>\n      <th>0</th>\n      <td>1.600326e+09</td>\n      <td>2020-09-17 07-AM</td>\n      <td>BTCEUR</td>\n      <td>9246.59</td>\n      <td>9251.27</td>\n      <td>9242.75</td>\n      <td>9251.27</td>\n      <td>0.00670</td>\n      <td>61.95</td>\n      <td>9302.08</td>\n      <td>-0.005965</td>\n    </tr>\n    <tr>\n      <th>1</th>\n      <td>1.600322e+09</td>\n      <td>2020-09-17 06-AM</td>\n      <td>BTCEUR</td>\n      <td>9302.08</td>\n      <td>9318.55</td>\n      <td>9242.95</td>\n      <td>9246.59</td>\n      <td>0.07678</td>\n      <td>711.82</td>\n      <td>9281.57</td>\n      <td>0.002210</td>\n    </tr>\n    <tr>\n      <th>2</th>\n      <td>1.600319e+09</td>\n      <td>2020-09-17 05-AM</td>\n      <td>BTCEUR</td>\n      <td>9281.57</td>\n      <td>9322.23</td>\n      <td>9274.79</td>\n      <td>9302.08</td>\n      <td>0.09128</td>\n      <td>848.16</td>\n      <td>9273.26</td>\n      <td>0.000896</td>\n    </tr>\n    <tr>\n      <th>3</th>\n      <td>1.600315e+09</td>\n      <td>2020-09-17 04-AM</td>\n      <td>BTCEUR</td>\n      <td>9273.26</td>\n      <td>9289.01</td>\n      <td>9259.86</td>\n      <td>9281.57</td>\n      <td>0.07866</td>\n      <td>729.78</td>\n      <td>9307.35</td>\n      <td>-0.003663</td>\n    </tr>\n    <tr>\n      <th>4</th>\n      <td>1.600312e+09</td>\n      <td>2020-09-17 03-AM</td>\n      <td>BTCEUR</td>\n      <td>9307.35</td>\n      <td>9309.64</td>\n      <td>9273.26</td>\n      <td>9273.26</td>\n      <td>0.09925</td>\n      <td>922.51</td>\n      <td>9338.39</td>\n      <td>-0.003324</td>\n    </tr>\n  </tbody>\n</table>\n</div>"
     },
     "metadata": {},
     "execution_count": 56
    }
   ],
   "source": [
    "dataframe[\"Open_hour_before\"] = dataframe[\"Open\"].shift(-1)\n",
    "dataframe[\"Open_changes\"] = (dataframe[\"Open\"] / dataframe[\"Open_hour_before\"]) - 1\n",
    "\n",
    "dataframe = dataframe.dropna()\n",
    "dataframe.head()"
   ]
  },
  {
   "cell_type": "code",
   "execution_count": 57,
   "metadata": {},
   "outputs": [],
   "source": [
    "changes = dataframe[\"Open_changes\"]"
   ]
  },
  {
   "cell_type": "code",
   "execution_count": 58,
   "metadata": {},
   "outputs": [],
   "source": [
    "import numpy as np\n",
    "\n",
    "X = []\n",
    "Y = []\n",
    "\n",
    "for i in range(0, len(changes) - 20):\n",
    "    Y.append(changes[i])\n",
    "    X.append(np.array(changes[i+1:i+21][::-1]))\n",
    "\n",
    "    \n",
    "X = np.array(X).reshape(-1, 20, 1)\n",
    "Y = np.array(Y)"
   ]
  },
  {
   "cell_type": "code",
   "execution_count": 59,
   "metadata": {
    "tags": []
   },
   "outputs": [
    {
     "output_type": "stream",
     "name": "stdout",
     "text": "Epoch 1/10\n880/880 [==============================] - 3s 4ms/step - loss: 9.3071e-05\nEpoch 2/10\n880/880 [==============================] - 3s 4ms/step - loss: 9.0843e-05\nEpoch 3/10\n880/880 [==============================] - 3s 4ms/step - loss: 9.0538e-05\nEpoch 4/10\n880/880 [==============================] - 3s 4ms/step - loss: 9.0526e-05\nEpoch 5/10\n880/880 [==============================] - 3s 4ms/step - loss: 9.0437e-05\nEpoch 6/10\n880/880 [==============================] - 3s 4ms/step - loss: 9.0457e-05\nEpoch 7/10\n880/880 [==============================] - 3s 4ms/step - loss: 9.0525e-05\nEpoch 8/10\n880/880 [==============================] - 3s 4ms/step - loss: 9.0481e-05\nEpoch 9/10\n880/880 [==============================] - 4s 4ms/step - loss: 9.0417e-05\nEpoch 10/10\n880/880 [==============================] - 4s 4ms/step - loss: 9.0479e-05\n"
    },
    {
     "output_type": "execute_result",
     "data": {
      "text/plain": "<tensorflow.python.keras.callbacks.History at 0x7fc162ff5430>"
     },
     "metadata": {},
     "execution_count": 59
    }
   ],
   "source": [
    "from keras.models import Sequential\n",
    "from keras.layers import LSTM\n",
    "\n",
    "model = Sequential()\n",
    "model.add(LSTM(1, input_shape=(20, 1)))\n",
    "\n",
    "model.compile(optimizer=\"rmsprop\", loss=\"mse\")\n",
    "model.fit(X, Y, batch_size=32, epochs=10)"
   ]
  },
  {
   "cell_type": "code",
   "execution_count": 60,
   "metadata": {},
   "outputs": [
    {
     "output_type": "execute_result",
     "data": {
      "text/plain": "array([-3.4975869e-04, -1.8834336e-04,  5.0517821e-05, ...,\n       -1.3476236e-03,  3.4700820e-04,  2.8233262e-04], dtype=float32)"
     },
     "metadata": {},
     "execution_count": 60
    }
   ],
   "source": [
    "predictions = model.predict(X)\n",
    "predictions = predictions.reshape(-1)\n",
    "\n",
    "predictions"
   ]
  },
  {
   "cell_type": "code",
   "execution_count": 61,
   "metadata": {},
   "outputs": [
    {
     "output_type": "execute_result",
     "data": {
      "text/plain": "   Unix Timestamp              Date  Symbol     Open     High      Low  \\\n0    1.600326e+09  2020-09-17 07-AM  BTCEUR  9246.59  9251.27  9242.75   \n1    1.600322e+09  2020-09-17 06-AM  BTCEUR  9302.08  9318.55  9242.95   \n2    1.600319e+09  2020-09-17 05-AM  BTCEUR  9281.57  9322.23  9274.79   \n3    1.600315e+09  2020-09-17 04-AM  BTCEUR  9273.26  9289.01  9259.86   \n4    1.600312e+09  2020-09-17 03-AM  BTCEUR  9307.35  9309.64  9273.26   \n\n     Close  Volume BTC  Volume EUR  Open_hour_before  Open_changes  \\\n0  9251.27     0.00670       61.95           9302.08     -0.005965   \n1  9246.59     0.07678      711.82           9281.57      0.002210   \n2  9302.08     0.09128      848.16           9273.26      0.000896   \n3  9281.57     0.07866      729.78           9307.35     -0.003663   \n4  9273.26     0.09925      922.51           9338.39     -0.003324   \n\n   predictions  Open_predictions  \n0    -0.000350       9298.826517  \n1    -0.000188       9279.821878  \n2     0.000051       9273.728465  \n3    -0.000037       9307.001803  \n4    -0.000232       9336.223031  ",
      "text/html": "<div>\n<style scoped>\n    .dataframe tbody tr th:only-of-type {\n        vertical-align: middle;\n    }\n\n    .dataframe tbody tr th {\n        vertical-align: top;\n    }\n\n    .dataframe thead th {\n        text-align: right;\n    }\n</style>\n<table border=\"1\" class=\"dataframe\">\n  <thead>\n    <tr style=\"text-align: right;\">\n      <th></th>\n      <th>Unix Timestamp</th>\n      <th>Date</th>\n      <th>Symbol</th>\n      <th>Open</th>\n      <th>High</th>\n      <th>Low</th>\n      <th>Close</th>\n      <th>Volume BTC</th>\n      <th>Volume EUR</th>\n      <th>Open_hour_before</th>\n      <th>Open_changes</th>\n      <th>predictions</th>\n      <th>Open_predictions</th>\n    </tr>\n  </thead>\n  <tbody>\n    <tr>\n      <th>0</th>\n      <td>1.600326e+09</td>\n      <td>2020-09-17 07-AM</td>\n      <td>BTCEUR</td>\n      <td>9246.59</td>\n      <td>9251.27</td>\n      <td>9242.75</td>\n      <td>9251.27</td>\n      <td>0.00670</td>\n      <td>61.95</td>\n      <td>9302.08</td>\n      <td>-0.005965</td>\n      <td>-0.000350</td>\n      <td>9298.826517</td>\n    </tr>\n    <tr>\n      <th>1</th>\n      <td>1.600322e+09</td>\n      <td>2020-09-17 06-AM</td>\n      <td>BTCEUR</td>\n      <td>9302.08</td>\n      <td>9318.55</td>\n      <td>9242.95</td>\n      <td>9246.59</td>\n      <td>0.07678</td>\n      <td>711.82</td>\n      <td>9281.57</td>\n      <td>0.002210</td>\n      <td>-0.000188</td>\n      <td>9279.821878</td>\n    </tr>\n    <tr>\n      <th>2</th>\n      <td>1.600319e+09</td>\n      <td>2020-09-17 05-AM</td>\n      <td>BTCEUR</td>\n      <td>9281.57</td>\n      <td>9322.23</td>\n      <td>9274.79</td>\n      <td>9302.08</td>\n      <td>0.09128</td>\n      <td>848.16</td>\n      <td>9273.26</td>\n      <td>0.000896</td>\n      <td>0.000051</td>\n      <td>9273.728465</td>\n    </tr>\n    <tr>\n      <th>3</th>\n      <td>1.600315e+09</td>\n      <td>2020-09-17 04-AM</td>\n      <td>BTCEUR</td>\n      <td>9273.26</td>\n      <td>9289.01</td>\n      <td>9259.86</td>\n      <td>9281.57</td>\n      <td>0.07866</td>\n      <td>729.78</td>\n      <td>9307.35</td>\n      <td>-0.003663</td>\n      <td>-0.000037</td>\n      <td>9307.001803</td>\n    </tr>\n    <tr>\n      <th>4</th>\n      <td>1.600312e+09</td>\n      <td>2020-09-17 03-AM</td>\n      <td>BTCEUR</td>\n      <td>9307.35</td>\n      <td>9309.64</td>\n      <td>9273.26</td>\n      <td>9273.26</td>\n      <td>0.09925</td>\n      <td>922.51</td>\n      <td>9338.39</td>\n      <td>-0.003324</td>\n      <td>-0.000232</td>\n      <td>9336.223031</td>\n    </tr>\n  </tbody>\n</table>\n</div>"
     },
     "metadata": {},
     "execution_count": 61
    }
   ],
   "source": [
    "predictions = np.append(predictions, np.zeros(20))\n",
    "\n",
    "dataframe[\"predictions\"] = predictions\n",
    "\n",
    "\n",
    "dataframe[\"Open_predicted\"] = dataframe[\"Open_hour_before\"] * (1 + dataframe[\"predictions\"])\n",
    "dataframe.head()"
   ]
  },
  {
   "cell_type": "code",
   "execution_count": 63,
   "metadata": {},
   "outputs": [
    {
     "output_type": "error",
     "ename": "KeyError",
     "evalue": "'Open_predicted'",
     "traceback": [
      "\u001b[0;31m---------------------------------------------------------------------------\u001b[0m",
      "\u001b[0;31mKeyError\u001b[0m                                  Traceback (most recent call last)",
      "\u001b[0;32m~/opt/anaconda3/lib/python3.8/site-packages/pandas/core/indexes/base.py\u001b[0m in \u001b[0;36mget_loc\u001b[0;34m(self, key, method, tolerance)\u001b[0m\n\u001b[1;32m   2645\u001b[0m             \u001b[0;32mtry\u001b[0m\u001b[0;34m:\u001b[0m\u001b[0;34m\u001b[0m\u001b[0;34m\u001b[0m\u001b[0m\n\u001b[0;32m-> 2646\u001b[0;31m                 \u001b[0;32mreturn\u001b[0m \u001b[0mself\u001b[0m\u001b[0;34m.\u001b[0m\u001b[0m_engine\u001b[0m\u001b[0;34m.\u001b[0m\u001b[0mget_loc\u001b[0m\u001b[0;34m(\u001b[0m\u001b[0mkey\u001b[0m\u001b[0;34m)\u001b[0m\u001b[0;34m\u001b[0m\u001b[0;34m\u001b[0m\u001b[0m\n\u001b[0m\u001b[1;32m   2647\u001b[0m             \u001b[0;32mexcept\u001b[0m \u001b[0mKeyError\u001b[0m\u001b[0;34m:\u001b[0m\u001b[0;34m\u001b[0m\u001b[0;34m\u001b[0m\u001b[0m\n",
      "\u001b[0;32mpandas/_libs/index.pyx\u001b[0m in \u001b[0;36mpandas._libs.index.IndexEngine.get_loc\u001b[0;34m()\u001b[0m\n",
      "\u001b[0;32mpandas/_libs/index.pyx\u001b[0m in \u001b[0;36mpandas._libs.index.IndexEngine.get_loc\u001b[0;34m()\u001b[0m\n",
      "\u001b[0;32mpandas/_libs/hashtable_class_helper.pxi\u001b[0m in \u001b[0;36mpandas._libs.hashtable.PyObjectHashTable.get_item\u001b[0;34m()\u001b[0m\n",
      "\u001b[0;32mpandas/_libs/hashtable_class_helper.pxi\u001b[0m in \u001b[0;36mpandas._libs.hashtable.PyObjectHashTable.get_item\u001b[0;34m()\u001b[0m\n",
      "\u001b[0;31mKeyError\u001b[0m: 'Open_predicted'",
      "\nDuring handling of the above exception, another exception occurred:\n",
      "\u001b[0;31mKeyError\u001b[0m                                  Traceback (most recent call last)",
      "\u001b[0;32m<ipython-input-63-4e2e147c94a9>\u001b[0m in \u001b[0;36m<module>\u001b[0;34m\u001b[0m\n\u001b[1;32m      5\u001b[0m \u001b[0;34m\u001b[0m\u001b[0m\n\u001b[1;32m      6\u001b[0m \u001b[0mplt\u001b[0m\u001b[0;34m.\u001b[0m\u001b[0mplot\u001b[0m\u001b[0;34m(\u001b[0m\u001b[0mdataframe\u001b[0m\u001b[0;34m.\u001b[0m\u001b[0mindex\u001b[0m\u001b[0;34m[\u001b[0m\u001b[0;34m:\u001b[0m\u001b[0;34m:\u001b[0m\u001b[0;34m-\u001b[0m\u001b[0;36m1\u001b[0m\u001b[0;34m]\u001b[0m\u001b[0;34m,\u001b[0m \u001b[0mdataframe\u001b[0m\u001b[0;34m[\u001b[0m\u001b[0;34m\"Open\"\u001b[0m\u001b[0;34m]\u001b[0m\u001b[0;34m,\u001b[0m \u001b[0mlabel\u001b[0m\u001b[0;34m=\u001b[0m\u001b[0;34m\"Open\"\u001b[0m\u001b[0;34m)\u001b[0m\u001b[0;34m\u001b[0m\u001b[0;34m\u001b[0m\u001b[0m\n\u001b[0;32m----> 7\u001b[0;31m \u001b[0mplt\u001b[0m\u001b[0;34m.\u001b[0m\u001b[0mplot\u001b[0m\u001b[0;34m(\u001b[0m\u001b[0mdataframe\u001b[0m\u001b[0;34m.\u001b[0m\u001b[0mindex\u001b[0m\u001b[0;34m[\u001b[0m\u001b[0;34m:\u001b[0m\u001b[0;34m:\u001b[0m\u001b[0;34m-\u001b[0m\u001b[0;36m1\u001b[0m\u001b[0;34m]\u001b[0m\u001b[0;34m,\u001b[0m \u001b[0mdataframe\u001b[0m\u001b[0;34m[\u001b[0m\u001b[0;34m\"Open_predicted\"\u001b[0m\u001b[0;34m]\u001b[0m\u001b[0;34m,\u001b[0m \u001b[0mlabel\u001b[0m\u001b[0;34m=\u001b[0m\u001b[0;34m\"Open (predicted)\"\u001b[0m\u001b[0;34m)\u001b[0m\u001b[0;34m\u001b[0m\u001b[0;34m\u001b[0m\u001b[0m\n\u001b[0m\u001b[1;32m      8\u001b[0m \u001b[0;34m\u001b[0m\u001b[0m\n\u001b[1;32m      9\u001b[0m \u001b[0mplt\u001b[0m\u001b[0;34m.\u001b[0m\u001b[0mlegend\u001b[0m\u001b[0;34m(\u001b[0m\u001b[0;34m)\u001b[0m\u001b[0;34m\u001b[0m\u001b[0;34m\u001b[0m\u001b[0m\n",
      "\u001b[0;32m~/opt/anaconda3/lib/python3.8/site-packages/pandas/core/frame.py\u001b[0m in \u001b[0;36m__getitem__\u001b[0;34m(self, key)\u001b[0m\n\u001b[1;32m   2798\u001b[0m             \u001b[0;32mif\u001b[0m \u001b[0mself\u001b[0m\u001b[0;34m.\u001b[0m\u001b[0mcolumns\u001b[0m\u001b[0;34m.\u001b[0m\u001b[0mnlevels\u001b[0m \u001b[0;34m>\u001b[0m \u001b[0;36m1\u001b[0m\u001b[0;34m:\u001b[0m\u001b[0;34m\u001b[0m\u001b[0;34m\u001b[0m\u001b[0m\n\u001b[1;32m   2799\u001b[0m                 \u001b[0;32mreturn\u001b[0m \u001b[0mself\u001b[0m\u001b[0;34m.\u001b[0m\u001b[0m_getitem_multilevel\u001b[0m\u001b[0;34m(\u001b[0m\u001b[0mkey\u001b[0m\u001b[0;34m)\u001b[0m\u001b[0;34m\u001b[0m\u001b[0;34m\u001b[0m\u001b[0m\n\u001b[0;32m-> 2800\u001b[0;31m             \u001b[0mindexer\u001b[0m \u001b[0;34m=\u001b[0m \u001b[0mself\u001b[0m\u001b[0;34m.\u001b[0m\u001b[0mcolumns\u001b[0m\u001b[0;34m.\u001b[0m\u001b[0mget_loc\u001b[0m\u001b[0;34m(\u001b[0m\u001b[0mkey\u001b[0m\u001b[0;34m)\u001b[0m\u001b[0;34m\u001b[0m\u001b[0;34m\u001b[0m\u001b[0m\n\u001b[0m\u001b[1;32m   2801\u001b[0m             \u001b[0;32mif\u001b[0m \u001b[0mis_integer\u001b[0m\u001b[0;34m(\u001b[0m\u001b[0mindexer\u001b[0m\u001b[0;34m)\u001b[0m\u001b[0;34m:\u001b[0m\u001b[0;34m\u001b[0m\u001b[0;34m\u001b[0m\u001b[0m\n\u001b[1;32m   2802\u001b[0m                 \u001b[0mindexer\u001b[0m \u001b[0;34m=\u001b[0m \u001b[0;34m[\u001b[0m\u001b[0mindexer\u001b[0m\u001b[0;34m]\u001b[0m\u001b[0;34m\u001b[0m\u001b[0;34m\u001b[0m\u001b[0m\n",
      "\u001b[0;32m~/opt/anaconda3/lib/python3.8/site-packages/pandas/core/indexes/base.py\u001b[0m in \u001b[0;36mget_loc\u001b[0;34m(self, key, method, tolerance)\u001b[0m\n\u001b[1;32m   2646\u001b[0m                 \u001b[0;32mreturn\u001b[0m \u001b[0mself\u001b[0m\u001b[0;34m.\u001b[0m\u001b[0m_engine\u001b[0m\u001b[0;34m.\u001b[0m\u001b[0mget_loc\u001b[0m\u001b[0;34m(\u001b[0m\u001b[0mkey\u001b[0m\u001b[0;34m)\u001b[0m\u001b[0;34m\u001b[0m\u001b[0;34m\u001b[0m\u001b[0m\n\u001b[1;32m   2647\u001b[0m             \u001b[0;32mexcept\u001b[0m \u001b[0mKeyError\u001b[0m\u001b[0;34m:\u001b[0m\u001b[0;34m\u001b[0m\u001b[0;34m\u001b[0m\u001b[0m\n\u001b[0;32m-> 2648\u001b[0;31m                 \u001b[0;32mreturn\u001b[0m \u001b[0mself\u001b[0m\u001b[0;34m.\u001b[0m\u001b[0m_engine\u001b[0m\u001b[0;34m.\u001b[0m\u001b[0mget_loc\u001b[0m\u001b[0;34m(\u001b[0m\u001b[0mself\u001b[0m\u001b[0;34m.\u001b[0m\u001b[0m_maybe_cast_indexer\u001b[0m\u001b[0;34m(\u001b[0m\u001b[0mkey\u001b[0m\u001b[0;34m)\u001b[0m\u001b[0;34m)\u001b[0m\u001b[0;34m\u001b[0m\u001b[0;34m\u001b[0m\u001b[0m\n\u001b[0m\u001b[1;32m   2649\u001b[0m         \u001b[0mindexer\u001b[0m \u001b[0;34m=\u001b[0m \u001b[0mself\u001b[0m\u001b[0;34m.\u001b[0m\u001b[0mget_indexer\u001b[0m\u001b[0;34m(\u001b[0m\u001b[0;34m[\u001b[0m\u001b[0mkey\u001b[0m\u001b[0;34m]\u001b[0m\u001b[0;34m,\u001b[0m \u001b[0mmethod\u001b[0m\u001b[0;34m=\u001b[0m\u001b[0mmethod\u001b[0m\u001b[0;34m,\u001b[0m \u001b[0mtolerance\u001b[0m\u001b[0;34m=\u001b[0m\u001b[0mtolerance\u001b[0m\u001b[0;34m)\u001b[0m\u001b[0;34m\u001b[0m\u001b[0;34m\u001b[0m\u001b[0m\n\u001b[1;32m   2650\u001b[0m         \u001b[0;32mif\u001b[0m \u001b[0mindexer\u001b[0m\u001b[0;34m.\u001b[0m\u001b[0mndim\u001b[0m \u001b[0;34m>\u001b[0m \u001b[0;36m1\u001b[0m \u001b[0;32mor\u001b[0m \u001b[0mindexer\u001b[0m\u001b[0;34m.\u001b[0m\u001b[0msize\u001b[0m \u001b[0;34m>\u001b[0m \u001b[0;36m1\u001b[0m\u001b[0;34m:\u001b[0m\u001b[0;34m\u001b[0m\u001b[0;34m\u001b[0m\u001b[0m\n",
      "\u001b[0;32mpandas/_libs/index.pyx\u001b[0m in \u001b[0;36mpandas._libs.index.IndexEngine.get_loc\u001b[0;34m()\u001b[0m\n",
      "\u001b[0;32mpandas/_libs/index.pyx\u001b[0m in \u001b[0;36mpandas._libs.index.IndexEngine.get_loc\u001b[0;34m()\u001b[0m\n",
      "\u001b[0;32mpandas/_libs/hashtable_class_helper.pxi\u001b[0m in \u001b[0;36mpandas._libs.hashtable.PyObjectHashTable.get_item\u001b[0;34m()\u001b[0m\n",
      "\u001b[0;32mpandas/_libs/hashtable_class_helper.pxi\u001b[0m in \u001b[0;36mpandas._libs.hashtable.PyObjectHashTable.get_item\u001b[0;34m()\u001b[0m\n",
      "\u001b[0;31mKeyError\u001b[0m: 'Open_predicted'"
     ]
    }
   ],
   "source": [
    "%matplotlib inline\n",
    "\n",
    "import matplotlib.pyplot as plt\n",
    "from matplotlib.dates import drange\n",
    "\n",
    "plt.plot(dataframe.index[::-1], dataframe[\"Open\"], label=\"Open\")\n",
    "plt.plot(dataframe.index[::-1], dataframe[\"Open_predicted\"], label=\"Open (predicted)\")\n",
    "\n",
    "plt.legend()\n",
    "\n",
    "plt.show()"
   ]
  },
  {
   "cell_type": "code",
   "execution_count": null,
   "metadata": {},
   "outputs": [],
   "source": []
  }
 ],
 "metadata": {
  "kernelspec": {
   "display_name": "Python 3",
   "language": "python",
   "name": "python3"
  },
  "language_info": {
   "codemirror_mode": {
    "name": "ipython",
    "version": 3
   },
   "file_extension": ".py",
   "mimetype": "text/x-python",
   "name": "python",
   "nbconvert_exporter": "python",
   "pygments_lexer": "ipython3",
   "version": "3.8.3-final"
  }
 },
 "nbformat": 4,
 "nbformat_minor": 4
}