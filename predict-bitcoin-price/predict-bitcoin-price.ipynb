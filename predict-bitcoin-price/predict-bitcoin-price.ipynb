{
 "cells": [
  {
   "cell_type": "code",
   "execution_count": 11,
   "metadata": {
    "scrolled": true
   },
   "outputs": [
    {
     "output_type": "execute_result",
     "data": {
      "text/plain": "   Unix Timestamp              Date  Symbol     Open     High      Low  \\\n0    1.600326e+09  2020-09-17 07-AM  BTCEUR  9246.59  9251.27  9242.75   \n1    1.600322e+09  2020-09-17 06-AM  BTCEUR  9302.08  9318.55  9242.95   \n2    1.600319e+09  2020-09-17 05-AM  BTCEUR  9281.57  9322.23  9274.79   \n3    1.600315e+09  2020-09-17 04-AM  BTCEUR  9273.26  9289.01  9259.86   \n4    1.600312e+09  2020-09-17 03-AM  BTCEUR  9307.35  9309.64  9273.26   \n\n     Close  Volume BTC  Volume EUR  \n0  9251.27     0.00670       61.95  \n1  9246.59     0.07678      711.82  \n2  9302.08     0.09128      848.16  \n3  9281.57     0.07866      729.78  \n4  9273.26     0.09925      922.51  ",
      "text/html": "<div>\n<style scoped>\n    .dataframe tbody tr th:only-of-type {\n        vertical-align: middle;\n    }\n\n    .dataframe tbody tr th {\n        vertical-align: top;\n    }\n\n    .dataframe thead th {\n        text-align: right;\n    }\n</style>\n<table border=\"1\" class=\"dataframe\">\n  <thead>\n    <tr style=\"text-align: right;\">\n      <th></th>\n      <th>Unix Timestamp</th>\n      <th>Date</th>\n      <th>Symbol</th>\n      <th>Open</th>\n      <th>High</th>\n      <th>Low</th>\n      <th>Close</th>\n      <th>Volume BTC</th>\n      <th>Volume EUR</th>\n    </tr>\n  </thead>\n  <tbody>\n    <tr>\n      <th>0</th>\n      <td>1.600326e+09</td>\n      <td>2020-09-17 07-AM</td>\n      <td>BTCEUR</td>\n      <td>9246.59</td>\n      <td>9251.27</td>\n      <td>9242.75</td>\n      <td>9251.27</td>\n      <td>0.00670</td>\n      <td>61.95</td>\n    </tr>\n    <tr>\n      <th>1</th>\n      <td>1.600322e+09</td>\n      <td>2020-09-17 06-AM</td>\n      <td>BTCEUR</td>\n      <td>9302.08</td>\n      <td>9318.55</td>\n      <td>9242.95</td>\n      <td>9246.59</td>\n      <td>0.07678</td>\n      <td>711.82</td>\n    </tr>\n    <tr>\n      <th>2</th>\n      <td>1.600319e+09</td>\n      <td>2020-09-17 05-AM</td>\n      <td>BTCEUR</td>\n      <td>9281.57</td>\n      <td>9322.23</td>\n      <td>9274.79</td>\n      <td>9302.08</td>\n      <td>0.09128</td>\n      <td>848.16</td>\n    </tr>\n    <tr>\n      <th>3</th>\n      <td>1.600315e+09</td>\n      <td>2020-09-17 04-AM</td>\n      <td>BTCEUR</td>\n      <td>9273.26</td>\n      <td>9289.01</td>\n      <td>9259.86</td>\n      <td>9281.57</td>\n      <td>0.07866</td>\n      <td>729.78</td>\n    </tr>\n    <tr>\n      <th>4</th>\n      <td>1.600312e+09</td>\n      <td>2020-09-17 03-AM</td>\n      <td>BTCEUR</td>\n      <td>9307.35</td>\n      <td>9309.64</td>\n      <td>9273.26</td>\n      <td>9273.26</td>\n      <td>0.09925</td>\n      <td>922.51</td>\n    </tr>\n  </tbody>\n</table>\n</div>"
     },
     "metadata": {},
     "execution_count": 11
    }
   ],
   "source": [
    "import pandas as pd\n",
    "\n",
    "\n",
    "dataframe = pd.read_csv(\"Exmo_BTCEUR_1h.csv\", header=1)\n",
    "\n",
    "dataframe.head()"
   ]
  },
  {
   "cell_type": "code",
   "execution_count": 12,
   "metadata": {},
   "outputs": [
    {
     "output_type": "execute_result",
     "data": {
      "text/plain": "   Unix Timestamp              Date  Symbol     Open     High      Low  \\\n0    1.600326e+09  2020-09-17 07-AM  BTCEUR  9246.59  9251.27  9242.75   \n1    1.600322e+09  2020-09-17 06-AM  BTCEUR  9302.08  9318.55  9242.95   \n2    1.600319e+09  2020-09-17 05-AM  BTCEUR  9281.57  9322.23  9274.79   \n3    1.600315e+09  2020-09-17 04-AM  BTCEUR  9273.26  9289.01  9259.86   \n4    1.600312e+09  2020-09-17 03-AM  BTCEUR  9307.35  9309.64  9273.26   \n\n     Close  Volume BTC  Volume EUR  Open_hour_before  Open_changes  \n0  9251.27     0.00670       61.95           9302.08     -0.005965  \n1  9246.59     0.07678      711.82           9281.57      0.002210  \n2  9302.08     0.09128      848.16           9273.26      0.000896  \n3  9281.57     0.07866      729.78           9307.35     -0.003663  \n4  9273.26     0.09925      922.51           9338.39     -0.003324  ",
      "text/html": "<div>\n<style scoped>\n    .dataframe tbody tr th:only-of-type {\n        vertical-align: middle;\n    }\n\n    .dataframe tbody tr th {\n        vertical-align: top;\n    }\n\n    .dataframe thead th {\n        text-align: right;\n    }\n</style>\n<table border=\"1\" class=\"dataframe\">\n  <thead>\n    <tr style=\"text-align: right;\">\n      <th></th>\n      <th>Unix Timestamp</th>\n      <th>Date</th>\n      <th>Symbol</th>\n      <th>Open</th>\n      <th>High</th>\n      <th>Low</th>\n      <th>Close</th>\n      <th>Volume BTC</th>\n      <th>Volume EUR</th>\n      <th>Open_hour_before</th>\n      <th>Open_changes</th>\n    </tr>\n  </thead>\n  <tbody>\n    <tr>\n      <th>0</th>\n      <td>1.600326e+09</td>\n      <td>2020-09-17 07-AM</td>\n      <td>BTCEUR</td>\n      <td>9246.59</td>\n      <td>9251.27</td>\n      <td>9242.75</td>\n      <td>9251.27</td>\n      <td>0.00670</td>\n      <td>61.95</td>\n      <td>9302.08</td>\n      <td>-0.005965</td>\n    </tr>\n    <tr>\n      <th>1</th>\n      <td>1.600322e+09</td>\n      <td>2020-09-17 06-AM</td>\n      <td>BTCEUR</td>\n      <td>9302.08</td>\n      <td>9318.55</td>\n      <td>9242.95</td>\n      <td>9246.59</td>\n      <td>0.07678</td>\n      <td>711.82</td>\n      <td>9281.57</td>\n      <td>0.002210</td>\n    </tr>\n    <tr>\n      <th>2</th>\n      <td>1.600319e+09</td>\n      <td>2020-09-17 05-AM</td>\n      <td>BTCEUR</td>\n      <td>9281.57</td>\n      <td>9322.23</td>\n      <td>9274.79</td>\n      <td>9302.08</td>\n      <td>0.09128</td>\n      <td>848.16</td>\n      <td>9273.26</td>\n      <td>0.000896</td>\n    </tr>\n    <tr>\n      <th>3</th>\n      <td>1.600315e+09</td>\n      <td>2020-09-17 04-AM</td>\n      <td>BTCEUR</td>\n      <td>9273.26</td>\n      <td>9289.01</td>\n      <td>9259.86</td>\n      <td>9281.57</td>\n      <td>0.07866</td>\n      <td>729.78</td>\n      <td>9307.35</td>\n      <td>-0.003663</td>\n    </tr>\n    <tr>\n      <th>4</th>\n      <td>1.600312e+09</td>\n      <td>2020-09-17 03-AM</td>\n      <td>BTCEUR</td>\n      <td>9307.35</td>\n      <td>9309.64</td>\n      <td>9273.26</td>\n      <td>9273.26</td>\n      <td>0.09925</td>\n      <td>922.51</td>\n      <td>9338.39</td>\n      <td>-0.003324</td>\n    </tr>\n  </tbody>\n</table>\n</div>"
     },
     "metadata": {},
     "execution_count": 12
    }
   ],
   "source": [
    "dataframe[\"Open_hour_before\"] = dataframe[\"Open\"].shift(-1)\n",
    "dataframe[\"Open_changes\"] = (dataframe[\"Open\"] / dataframe[\"Open_hour_before\"]) - 1\n",
    "\n",
    "dataframe = dataframe.dropna()\n",
    "dataframe.head()"
   ]
  },
  {
   "cell_type": "code",
   "execution_count": 13,
   "metadata": {},
   "outputs": [],
   "source": [
    "changes = dataframe[\"Open_changes\"]"
   ]
  },
  {
   "cell_type": "code",
   "execution_count": 14,
   "metadata": {},
   "outputs": [],
   "source": [
    "import numpy as np\n",
    "\n",
    "X = []\n",
    "Y = []\n",
    "\n",
    "for i in range(0, len(changes) - 20):\n",
    "    Y.append(changes[i])\n",
    "    X.append(np.array(changes[i+1:i+21][::-1]))\n",
    "\n",
    "    \n",
    "X = np.array(X).reshape(-1, 20, 1)\n",
    "Y = np.array(Y)"
   ]
  },
  {
   "cell_type": "code",
   "execution_count": 15,
   "metadata": {
    "tags": []
   },
   "outputs": [
    {
     "output_type": "stream",
     "name": "stdout",
     "text": "Epoch 1/10\n880/880 [==============================] - 4s 4ms/step - loss: 9.2382e-05\nEpoch 2/10\n880/880 [==============================] - 4s 4ms/step - loss: 9.1010e-05\nEpoch 3/10\n880/880 [==============================] - 3s 4ms/step - loss: 9.0812e-05\nEpoch 4/10\n880/880 [==============================] - 3s 4ms/step - loss: 9.0715e-05\nEpoch 5/10\n880/880 [==============================] - 3s 4ms/step - loss: 9.0619e-05\nEpoch 6/10\n880/880 [==============================] - 3s 4ms/step - loss: 9.0570e-05\nEpoch 7/10\n880/880 [==============================] - 3s 4ms/step - loss: 9.0565e-05\nEpoch 8/10\n880/880 [==============================] - 3s 4ms/step - loss: 9.0550e-05\nEpoch 9/10\n880/880 [==============================] - 4s 4ms/step - loss: 9.0543e-05\nEpoch 10/10\n880/880 [==============================] - 4s 4ms/step - loss: 9.0513e-05\n"
    },
    {
     "output_type": "execute_result",
     "data": {
      "text/plain": "<tensorflow.python.keras.callbacks.History at 0x7fc158c59250>"
     },
     "metadata": {},
     "execution_count": 15
    }
   ],
   "source": [
    "from keras.models import Sequential\n",
    "from keras.layers import LSTM\n",
    "\n",
    "model = Sequential()\n",
    "model.add(LSTM(1, input_shape=(20, 1)))\n",
    "\n",
    "model.compile(optimizer=\"rmsprop\", loss=\"mse\")\n",
    "model.fit(X, Y, batch_size=32, epochs=10)"
   ]
  },
  {
   "cell_type": "code",
   "execution_count": null,
   "metadata": {},
   "outputs": [],
   "source": []
  }
 ],
 "metadata": {
  "kernelspec": {
   "display_name": "Python 3",
   "language": "python",
   "name": "python3"
  },
  "language_info": {
   "codemirror_mode": {
    "name": "ipython",
    "version": 3
   },
   "file_extension": ".py",
   "mimetype": "text/x-python",
   "name": "python",
   "nbconvert_exporter": "python",
   "pygments_lexer": "ipython3",
   "version": "3.8.3-final"
  }
 },
 "nbformat": 4,
 "nbformat_minor": 4
}